{
  "nbformat": 4,
  "nbformat_minor": 0,
  "metadata": {
    "colab": {
      "name": "Project.ipynb",
      "provenance": [],
      "authorship_tag": "ABX9TyPI570rcKs/MCdAXq8n0w2w",
      "include_colab_link": true
    },
    "kernelspec": {
      "name": "python3",
      "display_name": "Python 3"
    },
    "language_info": {
      "name": "python"
    }
  },
  "cells": [
    {
      "cell_type": "markdown",
      "metadata": {
        "id": "view-in-github",
        "colab_type": "text"
      },
      "source": [
        "<a href=\"https://colab.research.google.com/github/amisihra/ML-Project/blob/main/Project.ipynb\" target=\"_parent\"><img src=\"https://colab.research.google.com/assets/colab-badge.svg\" alt=\"Open In Colab\"/></a>"
      ]
    },
    {
      "cell_type": "markdown",
      "metadata": {
        "id": "xhsOidQ9_Nxn"
      },
      "source": [
        "## California Housing Dataset\n"
      ]
    },
    {
      "cell_type": "markdown",
      "metadata": {
        "id": "cHFw4vQQVEkU"
      },
      "source": [
        "**How is the total value of homes in a neighborhood affected by different attributes that pertain to the home and the resident?**"
      ]
    },
    {
      "cell_type": "code",
      "metadata": {
        "colab": {
          "base_uri": "https://localhost:8080/",
          "height": 224
        },
        "id": "XzgrPXNz4wio",
        "outputId": "12c81e95-aa9d-4928-ae4e-7eaac85951c1"
      },
      "source": [
        "# original dataset\n",
        "url = 'https://raw.githubusercontent.com/coreyjwade/bca_datasets/master/california_housing.csv'\n",
        "import pandas as pd\n",
        "df = pd.read_csv(url)\n",
        "df.head()"
      ],
      "execution_count": null,
      "outputs": [
        {
          "output_type": "execute_result",
          "data": {
            "text/html": [
              "<div>\n",
              "<style scoped>\n",
              "    .dataframe tbody tr th:only-of-type {\n",
              "        vertical-align: middle;\n",
              "    }\n",
              "\n",
              "    .dataframe tbody tr th {\n",
              "        vertical-align: top;\n",
              "    }\n",
              "\n",
              "    .dataframe thead th {\n",
              "        text-align: right;\n",
              "    }\n",
              "</style>\n",
              "<table border=\"1\" class=\"dataframe\">\n",
              "  <thead>\n",
              "    <tr style=\"text-align: right;\">\n",
              "      <th></th>\n",
              "      <th>longitude</th>\n",
              "      <th>latitude</th>\n",
              "      <th>housing_median_age</th>\n",
              "      <th>total_rooms</th>\n",
              "      <th>total_bedrooms</th>\n",
              "      <th>population</th>\n",
              "      <th>households</th>\n",
              "      <th>median_income</th>\n",
              "      <th>median_house_value</th>\n",
              "      <th>ocean_proximity</th>\n",
              "    </tr>\n",
              "  </thead>\n",
              "  <tbody>\n",
              "    <tr>\n",
              "      <th>0</th>\n",
              "      <td>-122.23</td>\n",
              "      <td>37.88</td>\n",
              "      <td>41.0</td>\n",
              "      <td>880.0</td>\n",
              "      <td>129.0</td>\n",
              "      <td>322.0</td>\n",
              "      <td>126.0</td>\n",
              "      <td>8.3252</td>\n",
              "      <td>452600.0</td>\n",
              "      <td>NEAR BAY</td>\n",
              "    </tr>\n",
              "    <tr>\n",
              "      <th>1</th>\n",
              "      <td>-122.22</td>\n",
              "      <td>37.86</td>\n",
              "      <td>21.0</td>\n",
              "      <td>7099.0</td>\n",
              "      <td>1106.0</td>\n",
              "      <td>2401.0</td>\n",
              "      <td>1138.0</td>\n",
              "      <td>8.3014</td>\n",
              "      <td>358500.0</td>\n",
              "      <td>NEAR BAY</td>\n",
              "    </tr>\n",
              "    <tr>\n",
              "      <th>2</th>\n",
              "      <td>-122.24</td>\n",
              "      <td>37.85</td>\n",
              "      <td>52.0</td>\n",
              "      <td>1467.0</td>\n",
              "      <td>190.0</td>\n",
              "      <td>496.0</td>\n",
              "      <td>177.0</td>\n",
              "      <td>7.2574</td>\n",
              "      <td>352100.0</td>\n",
              "      <td>NEAR BAY</td>\n",
              "    </tr>\n",
              "    <tr>\n",
              "      <th>3</th>\n",
              "      <td>-122.25</td>\n",
              "      <td>37.85</td>\n",
              "      <td>52.0</td>\n",
              "      <td>1274.0</td>\n",
              "      <td>235.0</td>\n",
              "      <td>558.0</td>\n",
              "      <td>219.0</td>\n",
              "      <td>5.6431</td>\n",
              "      <td>341300.0</td>\n",
              "      <td>NEAR BAY</td>\n",
              "    </tr>\n",
              "    <tr>\n",
              "      <th>4</th>\n",
              "      <td>-122.25</td>\n",
              "      <td>37.85</td>\n",
              "      <td>52.0</td>\n",
              "      <td>1627.0</td>\n",
              "      <td>280.0</td>\n",
              "      <td>565.0</td>\n",
              "      <td>259.0</td>\n",
              "      <td>3.8462</td>\n",
              "      <td>342200.0</td>\n",
              "      <td>NEAR BAY</td>\n",
              "    </tr>\n",
              "  </tbody>\n",
              "</table>\n",
              "</div>"
            ],
            "text/plain": [
              "   longitude  latitude  ...  median_house_value  ocean_proximity\n",
              "0    -122.23     37.88  ...            452600.0         NEAR BAY\n",
              "1    -122.22     37.86  ...            358500.0         NEAR BAY\n",
              "2    -122.24     37.85  ...            352100.0         NEAR BAY\n",
              "3    -122.25     37.85  ...            341300.0         NEAR BAY\n",
              "4    -122.25     37.85  ...            342200.0         NEAR BAY\n",
              "\n",
              "[5 rows x 10 columns]"
            ]
          },
          "metadata": {
            "tags": []
          },
          "execution_count": 76
        }
      ]
    },
    {
      "cell_type": "code",
      "metadata": {
        "colab": {
          "base_uri": "https://localhost:8080/"
        },
        "id": "OaOGrdS245vr",
        "outputId": "6222ba5b-7325-44f1-e279-c3a5f213f925"
      },
      "source": [
        "df.info()"
      ],
      "execution_count": null,
      "outputs": [
        {
          "output_type": "stream",
          "text": [
            "<class 'pandas.core.frame.DataFrame'>\n",
            "RangeIndex: 20640 entries, 0 to 20639\n",
            "Data columns (total 10 columns):\n",
            " #   Column              Non-Null Count  Dtype  \n",
            "---  ------              --------------  -----  \n",
            " 0   longitude           20640 non-null  float64\n",
            " 1   latitude            20640 non-null  float64\n",
            " 2   housing_median_age  20640 non-null  float64\n",
            " 3   total_rooms         20640 non-null  float64\n",
            " 4   total_bedrooms      20433 non-null  float64\n",
            " 5   population          20640 non-null  float64\n",
            " 6   households          20640 non-null  float64\n",
            " 7   median_income       20640 non-null  float64\n",
            " 8   median_house_value  20640 non-null  float64\n",
            " 9   ocean_proximity     20640 non-null  object \n",
            "dtypes: float64(9), object(1)\n",
            "memory usage: 1.6+ MB\n"
          ],
          "name": "stdout"
        }
      ]
    },
    {
      "cell_type": "code",
      "metadata": {
        "colab": {
          "base_uri": "https://localhost:8080/",
          "height": 317
        },
        "id": "31G1RjDY7g1v",
        "outputId": "7fbf5179-bbe2-4f32-be2a-7485059afecd"
      },
      "source": [
        "df.describe()"
      ],
      "execution_count": null,
      "outputs": [
        {
          "output_type": "execute_result",
          "data": {
            "text/html": [
              "<div>\n",
              "<style scoped>\n",
              "    .dataframe tbody tr th:only-of-type {\n",
              "        vertical-align: middle;\n",
              "    }\n",
              "\n",
              "    .dataframe tbody tr th {\n",
              "        vertical-align: top;\n",
              "    }\n",
              "\n",
              "    .dataframe thead th {\n",
              "        text-align: right;\n",
              "    }\n",
              "</style>\n",
              "<table border=\"1\" class=\"dataframe\">\n",
              "  <thead>\n",
              "    <tr style=\"text-align: right;\">\n",
              "      <th></th>\n",
              "      <th>longitude</th>\n",
              "      <th>latitude</th>\n",
              "      <th>housing_median_age</th>\n",
              "      <th>total_rooms</th>\n",
              "      <th>total_bedrooms</th>\n",
              "      <th>population</th>\n",
              "      <th>households</th>\n",
              "      <th>median_income</th>\n",
              "      <th>median_house_value</th>\n",
              "    </tr>\n",
              "  </thead>\n",
              "  <tbody>\n",
              "    <tr>\n",
              "      <th>count</th>\n",
              "      <td>20640.000000</td>\n",
              "      <td>20640.000000</td>\n",
              "      <td>20640.000000</td>\n",
              "      <td>20640.000000</td>\n",
              "      <td>20433.000000</td>\n",
              "      <td>20640.000000</td>\n",
              "      <td>20640.000000</td>\n",
              "      <td>20640.000000</td>\n",
              "      <td>20640.000000</td>\n",
              "    </tr>\n",
              "    <tr>\n",
              "      <th>mean</th>\n",
              "      <td>-119.569704</td>\n",
              "      <td>35.631861</td>\n",
              "      <td>28.639486</td>\n",
              "      <td>2635.763081</td>\n",
              "      <td>537.870553</td>\n",
              "      <td>1425.476744</td>\n",
              "      <td>499.539680</td>\n",
              "      <td>3.870671</td>\n",
              "      <td>206855.816909</td>\n",
              "    </tr>\n",
              "    <tr>\n",
              "      <th>std</th>\n",
              "      <td>2.003532</td>\n",
              "      <td>2.135952</td>\n",
              "      <td>12.585558</td>\n",
              "      <td>2181.615252</td>\n",
              "      <td>421.385070</td>\n",
              "      <td>1132.462122</td>\n",
              "      <td>382.329753</td>\n",
              "      <td>1.899822</td>\n",
              "      <td>115395.615874</td>\n",
              "    </tr>\n",
              "    <tr>\n",
              "      <th>min</th>\n",
              "      <td>-124.350000</td>\n",
              "      <td>32.540000</td>\n",
              "      <td>1.000000</td>\n",
              "      <td>2.000000</td>\n",
              "      <td>1.000000</td>\n",
              "      <td>3.000000</td>\n",
              "      <td>1.000000</td>\n",
              "      <td>0.499900</td>\n",
              "      <td>14999.000000</td>\n",
              "    </tr>\n",
              "    <tr>\n",
              "      <th>25%</th>\n",
              "      <td>-121.800000</td>\n",
              "      <td>33.930000</td>\n",
              "      <td>18.000000</td>\n",
              "      <td>1447.750000</td>\n",
              "      <td>296.000000</td>\n",
              "      <td>787.000000</td>\n",
              "      <td>280.000000</td>\n",
              "      <td>2.563400</td>\n",
              "      <td>119600.000000</td>\n",
              "    </tr>\n",
              "    <tr>\n",
              "      <th>50%</th>\n",
              "      <td>-118.490000</td>\n",
              "      <td>34.260000</td>\n",
              "      <td>29.000000</td>\n",
              "      <td>2127.000000</td>\n",
              "      <td>435.000000</td>\n",
              "      <td>1166.000000</td>\n",
              "      <td>409.000000</td>\n",
              "      <td>3.534800</td>\n",
              "      <td>179700.000000</td>\n",
              "    </tr>\n",
              "    <tr>\n",
              "      <th>75%</th>\n",
              "      <td>-118.010000</td>\n",
              "      <td>37.710000</td>\n",
              "      <td>37.000000</td>\n",
              "      <td>3148.000000</td>\n",
              "      <td>647.000000</td>\n",
              "      <td>1725.000000</td>\n",
              "      <td>605.000000</td>\n",
              "      <td>4.743250</td>\n",
              "      <td>264725.000000</td>\n",
              "    </tr>\n",
              "    <tr>\n",
              "      <th>max</th>\n",
              "      <td>-114.310000</td>\n",
              "      <td>41.950000</td>\n",
              "      <td>52.000000</td>\n",
              "      <td>39320.000000</td>\n",
              "      <td>6445.000000</td>\n",
              "      <td>35682.000000</td>\n",
              "      <td>6082.000000</td>\n",
              "      <td>15.000100</td>\n",
              "      <td>500001.000000</td>\n",
              "    </tr>\n",
              "  </tbody>\n",
              "</table>\n",
              "</div>"
            ],
            "text/plain": [
              "          longitude      latitude  ...  median_income  median_house_value\n",
              "count  20640.000000  20640.000000  ...   20640.000000        20640.000000\n",
              "mean    -119.569704     35.631861  ...       3.870671       206855.816909\n",
              "std        2.003532      2.135952  ...       1.899822       115395.615874\n",
              "min     -124.350000     32.540000  ...       0.499900        14999.000000\n",
              "25%     -121.800000     33.930000  ...       2.563400       119600.000000\n",
              "50%     -118.490000     34.260000  ...       3.534800       179700.000000\n",
              "75%     -118.010000     37.710000  ...       4.743250       264725.000000\n",
              "max     -114.310000     41.950000  ...      15.000100       500001.000000\n",
              "\n",
              "[8 rows x 9 columns]"
            ]
          },
          "metadata": {
            "tags": []
          },
          "execution_count": 78
        }
      ]
    },
    {
      "cell_type": "code",
      "metadata": {
        "colab": {
          "base_uri": "https://localhost:8080/"
        },
        "id": "HYsh5fN_Qk1e",
        "outputId": "192e990c-b33c-42e4-b8d6-c6a0a5086a6c"
      },
      "source": [
        "df.shape"
      ],
      "execution_count": null,
      "outputs": [
        {
          "output_type": "execute_result",
          "data": {
            "text/plain": [
              "(20640, 10)"
            ]
          },
          "metadata": {
            "tags": []
          },
          "execution_count": 79
        }
      ]
    },
    {
      "cell_type": "markdown",
      "metadata": {
        "id": "Ax-_NK9DbRdS"
      },
      "source": [
        "I'll be using around 1/3 of the data when analyzing and predicting. "
      ]
    },
    {
      "cell_type": "markdown",
      "metadata": {
        "id": "ggpUrH158Qeo"
      },
      "source": [
        "## Column Descriptions\n"
      ]
    },
    {
      "cell_type": "markdown",
      "metadata": {
        "id": "vyGnTWw_-B_L"
      },
      "source": [
        "**What will be included:**\n",
        "\n",
        "MedianAge: Median age of a house within a block; a lower number is a newer building\n",
        "\n",
        "totalRooms: Total number of rooms within a block\n",
        "\n",
        "totalBedrooms: Total number of bedrooms within a block\n",
        "\n",
        "population: Total number of people residing within a block\n",
        "\n",
        "households: Total number of households, a group of people residing within a home unit, for a block\n",
        "\n",
        "medianIncome: Median income for households within a block of houses (measured in tens of thousands of US Dollars)\n",
        "\n",
        "medianHouseValue: Median house value for households within a block (measured in US Dollars)"
      ]
    },
    {
      "cell_type": "markdown",
      "metadata": {
        "id": "xZzIIojE8X6Y"
      },
      "source": [
        "**What will not be included:**\n",
        "\n",
        "longitude: A measure of how far west a house is; *predictions will not focus on specific cities*\n",
        "\n",
        "latitude: A measure of how far north a house is; *predictions will not focus on specific cities*\n",
        "\n",
        "oceanProximity: Location of the house w.r.t ocean/sea; *categorical*"
      ]
    },
    {
      "cell_type": "markdown",
      "metadata": {
        "id": "fx3THVU_SyET"
      },
      "source": [
        "## Updated Dataset"
      ]
    },
    {
      "cell_type": "code",
      "metadata": {
        "colab": {
          "base_uri": "https://localhost:8080/",
          "height": 439
        },
        "id": "NRE_WnutS1J_",
        "outputId": "f4f05a5d-bbc0-4f11-8811-483b909e1977"
      },
      "source": [
        "housing = df[['housing_median_age', 'total_rooms',\t'total_bedrooms',\t\n",
        "                 'population',\t'households',\t'median_income',\t'median_house_value']]\n",
        "updated_housing = housing.iloc[:6275] # standard number of entries\n",
        "updated_housing"
      ],
      "execution_count": null,
      "outputs": [
        {
          "output_type": "execute_result",
          "data": {
            "text/html": [
              "<div>\n",
              "<style scoped>\n",
              "    .dataframe tbody tr th:only-of-type {\n",
              "        vertical-align: middle;\n",
              "    }\n",
              "\n",
              "    .dataframe tbody tr th {\n",
              "        vertical-align: top;\n",
              "    }\n",
              "\n",
              "    .dataframe thead th {\n",
              "        text-align: right;\n",
              "    }\n",
              "</style>\n",
              "<table border=\"1\" class=\"dataframe\">\n",
              "  <thead>\n",
              "    <tr style=\"text-align: right;\">\n",
              "      <th></th>\n",
              "      <th>housing_median_age</th>\n",
              "      <th>total_rooms</th>\n",
              "      <th>total_bedrooms</th>\n",
              "      <th>population</th>\n",
              "      <th>households</th>\n",
              "      <th>median_income</th>\n",
              "      <th>median_house_value</th>\n",
              "    </tr>\n",
              "  </thead>\n",
              "  <tbody>\n",
              "    <tr>\n",
              "      <th>0</th>\n",
              "      <td>41.0</td>\n",
              "      <td>880.0</td>\n",
              "      <td>129.0</td>\n",
              "      <td>322.0</td>\n",
              "      <td>126.0</td>\n",
              "      <td>8.3252</td>\n",
              "      <td>452600.0</td>\n",
              "    </tr>\n",
              "    <tr>\n",
              "      <th>1</th>\n",
              "      <td>21.0</td>\n",
              "      <td>7099.0</td>\n",
              "      <td>1106.0</td>\n",
              "      <td>2401.0</td>\n",
              "      <td>1138.0</td>\n",
              "      <td>8.3014</td>\n",
              "      <td>358500.0</td>\n",
              "    </tr>\n",
              "    <tr>\n",
              "      <th>2</th>\n",
              "      <td>52.0</td>\n",
              "      <td>1467.0</td>\n",
              "      <td>190.0</td>\n",
              "      <td>496.0</td>\n",
              "      <td>177.0</td>\n",
              "      <td>7.2574</td>\n",
              "      <td>352100.0</td>\n",
              "    </tr>\n",
              "    <tr>\n",
              "      <th>3</th>\n",
              "      <td>52.0</td>\n",
              "      <td>1274.0</td>\n",
              "      <td>235.0</td>\n",
              "      <td>558.0</td>\n",
              "      <td>219.0</td>\n",
              "      <td>5.6431</td>\n",
              "      <td>341300.0</td>\n",
              "    </tr>\n",
              "    <tr>\n",
              "      <th>4</th>\n",
              "      <td>52.0</td>\n",
              "      <td>1627.0</td>\n",
              "      <td>280.0</td>\n",
              "      <td>565.0</td>\n",
              "      <td>259.0</td>\n",
              "      <td>3.8462</td>\n",
              "      <td>342200.0</td>\n",
              "    </tr>\n",
              "    <tr>\n",
              "      <th>...</th>\n",
              "      <td>...</td>\n",
              "      <td>...</td>\n",
              "      <td>...</td>\n",
              "      <td>...</td>\n",
              "      <td>...</td>\n",
              "      <td>...</td>\n",
              "      <td>...</td>\n",
              "    </tr>\n",
              "    <tr>\n",
              "      <th>6270</th>\n",
              "      <td>33.0</td>\n",
              "      <td>1493.0</td>\n",
              "      <td>331.0</td>\n",
              "      <td>1571.0</td>\n",
              "      <td>354.0</td>\n",
              "      <td>3.8864</td>\n",
              "      <td>158900.0</td>\n",
              "    </tr>\n",
              "    <tr>\n",
              "      <th>6271</th>\n",
              "      <td>27.0</td>\n",
              "      <td>2610.0</td>\n",
              "      <td>846.0</td>\n",
              "      <td>2296.0</td>\n",
              "      <td>750.0</td>\n",
              "      <td>2.2740</td>\n",
              "      <td>150800.0</td>\n",
              "    </tr>\n",
              "    <tr>\n",
              "      <th>6272</th>\n",
              "      <td>35.0</td>\n",
              "      <td>1499.0</td>\n",
              "      <td>289.0</td>\n",
              "      <td>1112.0</td>\n",
              "      <td>268.0</td>\n",
              "      <td>3.8300</td>\n",
              "      <td>149000.0</td>\n",
              "    </tr>\n",
              "    <tr>\n",
              "      <th>6273</th>\n",
              "      <td>35.0</td>\n",
              "      <td>1375.0</td>\n",
              "      <td>249.0</td>\n",
              "      <td>1015.0</td>\n",
              "      <td>239.0</td>\n",
              "      <td>4.0521</td>\n",
              "      <td>151800.0</td>\n",
              "    </tr>\n",
              "    <tr>\n",
              "      <th>6274</th>\n",
              "      <td>33.0</td>\n",
              "      <td>1782.0</td>\n",
              "      <td>394.0</td>\n",
              "      <td>1517.0</td>\n",
              "      <td>376.0</td>\n",
              "      <td>3.3389</td>\n",
              "      <td>157900.0</td>\n",
              "    </tr>\n",
              "  </tbody>\n",
              "</table>\n",
              "<p>6275 rows × 7 columns</p>\n",
              "</div>"
            ],
            "text/plain": [
              "      housing_median_age  total_rooms  ...  median_income  median_house_value\n",
              "0                   41.0        880.0  ...         8.3252            452600.0\n",
              "1                   21.0       7099.0  ...         8.3014            358500.0\n",
              "2                   52.0       1467.0  ...         7.2574            352100.0\n",
              "3                   52.0       1274.0  ...         5.6431            341300.0\n",
              "4                   52.0       1627.0  ...         3.8462            342200.0\n",
              "...                  ...          ...  ...            ...                 ...\n",
              "6270                33.0       1493.0  ...         3.8864            158900.0\n",
              "6271                27.0       2610.0  ...         2.2740            150800.0\n",
              "6272                35.0       1499.0  ...         3.8300            149000.0\n",
              "6273                35.0       1375.0  ...         4.0521            151800.0\n",
              "6274                33.0       1782.0  ...         3.3389            157900.0\n",
              "\n",
              "[6275 rows x 7 columns]"
            ]
          },
          "metadata": {
            "tags": []
          },
          "execution_count": 80
        }
      ]
    },
    {
      "cell_type": "code",
      "metadata": {
        "colab": {
          "base_uri": "https://localhost:8080/",
          "height": 317
        },
        "id": "mxME45DnWxF1",
        "outputId": "0fcb67b1-7d98-4a42-e67c-8753d5394f21"
      },
      "source": [
        "updated_housing.describe()"
      ],
      "execution_count": null,
      "outputs": [
        {
          "output_type": "execute_result",
          "data": {
            "text/html": [
              "<div>\n",
              "<style scoped>\n",
              "    .dataframe tbody tr th:only-of-type {\n",
              "        vertical-align: middle;\n",
              "    }\n",
              "\n",
              "    .dataframe tbody tr th {\n",
              "        vertical-align: top;\n",
              "    }\n",
              "\n",
              "    .dataframe thead th {\n",
              "        text-align: right;\n",
              "    }\n",
              "</style>\n",
              "<table border=\"1\" class=\"dataframe\">\n",
              "  <thead>\n",
              "    <tr style=\"text-align: right;\">\n",
              "      <th></th>\n",
              "      <th>housing_median_age</th>\n",
              "      <th>total_rooms</th>\n",
              "      <th>total_bedrooms</th>\n",
              "      <th>population</th>\n",
              "      <th>households</th>\n",
              "      <th>median_income</th>\n",
              "      <th>median_house_value</th>\n",
              "    </tr>\n",
              "  </thead>\n",
              "  <tbody>\n",
              "    <tr>\n",
              "      <th>count</th>\n",
              "      <td>6275.000000</td>\n",
              "      <td>6275.000000</td>\n",
              "      <td>6207.000000</td>\n",
              "      <td>6275.000000</td>\n",
              "      <td>6275.000000</td>\n",
              "      <td>6275.000000</td>\n",
              "      <td>6275.000000</td>\n",
              "    </tr>\n",
              "    <tr>\n",
              "      <th>mean</th>\n",
              "      <td>31.648127</td>\n",
              "      <td>2408.416574</td>\n",
              "      <td>513.584824</td>\n",
              "      <td>1356.783267</td>\n",
              "      <td>479.458008</td>\n",
              "      <td>3.574406</td>\n",
              "      <td>190960.548207</td>\n",
              "    </tr>\n",
              "    <tr>\n",
              "      <th>std</th>\n",
              "      <td>12.555843</td>\n",
              "      <td>1923.546210</td>\n",
              "      <td>388.747686</td>\n",
              "      <td>997.500369</td>\n",
              "      <td>360.686664</td>\n",
              "      <td>1.926671</td>\n",
              "      <td>114766.321894</td>\n",
              "    </tr>\n",
              "    <tr>\n",
              "      <th>min</th>\n",
              "      <td>1.000000</td>\n",
              "      <td>2.000000</td>\n",
              "      <td>2.000000</td>\n",
              "      <td>3.000000</td>\n",
              "      <td>2.000000</td>\n",
              "      <td>0.499900</td>\n",
              "      <td>14999.000000</td>\n",
              "    </tr>\n",
              "    <tr>\n",
              "      <th>25%</th>\n",
              "      <td>22.000000</td>\n",
              "      <td>1360.000000</td>\n",
              "      <td>287.000000</td>\n",
              "      <td>773.500000</td>\n",
              "      <td>272.000000</td>\n",
              "      <td>2.240900</td>\n",
              "      <td>100000.000000</td>\n",
              "    </tr>\n",
              "    <tr>\n",
              "      <th>50%</th>\n",
              "      <td>33.000000</td>\n",
              "      <td>1961.000000</td>\n",
              "      <td>416.000000</td>\n",
              "      <td>1120.000000</td>\n",
              "      <td>389.000000</td>\n",
              "      <td>3.160700</td>\n",
              "      <td>164700.000000</td>\n",
              "    </tr>\n",
              "    <tr>\n",
              "      <th>75%</th>\n",
              "      <td>41.000000</td>\n",
              "      <td>2866.500000</td>\n",
              "      <td>616.000000</td>\n",
              "      <td>1665.000000</td>\n",
              "      <td>574.000000</td>\n",
              "      <td>4.366050</td>\n",
              "      <td>244250.000000</td>\n",
              "    </tr>\n",
              "    <tr>\n",
              "      <th>max</th>\n",
              "      <td>52.000000</td>\n",
              "      <td>32054.000000</td>\n",
              "      <td>5290.000000</td>\n",
              "      <td>15507.000000</td>\n",
              "      <td>5050.000000</td>\n",
              "      <td>15.000100</td>\n",
              "      <td>500001.000000</td>\n",
              "    </tr>\n",
              "  </tbody>\n",
              "</table>\n",
              "</div>"
            ],
            "text/plain": [
              "       housing_median_age   total_rooms  ...  median_income  median_house_value\n",
              "count         6275.000000   6275.000000  ...    6275.000000         6275.000000\n",
              "mean            31.648127   2408.416574  ...       3.574406       190960.548207\n",
              "std             12.555843   1923.546210  ...       1.926671       114766.321894\n",
              "min              1.000000      2.000000  ...       0.499900        14999.000000\n",
              "25%             22.000000   1360.000000  ...       2.240900       100000.000000\n",
              "50%             33.000000   1961.000000  ...       3.160700       164700.000000\n",
              "75%             41.000000   2866.500000  ...       4.366050       244250.000000\n",
              "max             52.000000  32054.000000  ...      15.000100       500001.000000\n",
              "\n",
              "[8 rows x 7 columns]"
            ]
          },
          "metadata": {
            "tags": []
          },
          "execution_count": 81
        }
      ]
    },
    {
      "cell_type": "markdown",
      "metadata": {
        "id": "KR4-9Gt0b8l-"
      },
      "source": [
        "Even with dropping 2/3rds of the rows, there are still large ranges for every column when looking at the min and max. However when comparing the percentiles with the min and max, you notice skewed data. For example, with total_rooms the max is over 11x larger than the 75th percentile, whereas the min is 680x larger. \n",
        "\n",
        "This is seen in total_bedrooms, population, and households which also have large max values."
      ]
    },
    {
      "cell_type": "markdown",
      "metadata": {
        "id": "Yp_ZXyXoGy6w"
      },
      "source": [
        "## Fixing Null Values"
      ]
    },
    {
      "cell_type": "code",
      "metadata": {
        "colab": {
          "base_uri": "https://localhost:8080/"
        },
        "id": "4q1MY8S0G0Ll",
        "outputId": "68e0d3f6-1613-4519-f5f5-be92de5ce8ef"
      },
      "source": [
        "print(updated_housing.isnull().sum())\n",
        "print(updated_housing.shape)"
      ],
      "execution_count": null,
      "outputs": [
        {
          "output_type": "stream",
          "text": [
            "housing_median_age     0\n",
            "total_rooms            0\n",
            "total_bedrooms        68\n",
            "population             0\n",
            "households             0\n",
            "median_income          0\n",
            "median_house_value     0\n",
            "dtype: int64\n",
            "(6275, 7)\n"
          ],
          "name": "stdout"
        }
      ]
    },
    {
      "cell_type": "markdown",
      "metadata": {
        "id": "-lV7SyKvKFFT"
      },
      "source": [
        "Only 68 null values in total, all in the total_bedrooms column.\n",
        "\n",
        "Considering that's only around 1% of the data and won't have a noticable effect on the dataset, I will remove the null values."
      ]
    },
    {
      "cell_type": "code",
      "metadata": {
        "colab": {
          "base_uri": "https://localhost:8080/"
        },
        "id": "c8foRqWHqIe9",
        "outputId": "fc7029a1-5e45-4be4-8e14-3e11e7c67d08"
      },
      "source": [
        "updated_housing.dropna(axis=0, how='any', inplace=True) # dropping just null values that show up in rows"
      ],
      "execution_count": null,
      "outputs": [
        {
          "output_type": "stream",
          "text": [
            "/usr/local/lib/python3.7/dist-packages/ipykernel_launcher.py:1: SettingWithCopyWarning: \n",
            "A value is trying to be set on a copy of a slice from a DataFrame\n",
            "\n",
            "See the caveats in the documentation: https://pandas.pydata.org/pandas-docs/stable/user_guide/indexing.html#returning-a-view-versus-a-copy\n",
            "  \"\"\"Entry point for launching an IPython kernel.\n"
          ],
          "name": "stderr"
        }
      ]
    },
    {
      "cell_type": "code",
      "metadata": {
        "colab": {
          "base_uri": "https://localhost:8080/"
        },
        "id": "Y3NvD9cYJUFU",
        "outputId": "8f7c8386-8311-4037-92d9-d1eb1955683d"
      },
      "source": [
        "updated_housing.isnull().sum()"
      ],
      "execution_count": null,
      "outputs": [
        {
          "output_type": "execute_result",
          "data": {
            "text/plain": [
              "housing_median_age    0\n",
              "total_rooms           0\n",
              "total_bedrooms        0\n",
              "population            0\n",
              "households            0\n",
              "median_income         0\n",
              "median_house_value    0\n",
              "dtype: int64"
            ]
          },
          "metadata": {
            "tags": []
          },
          "execution_count": 84
        }
      ]
    },
    {
      "cell_type": "markdown",
      "metadata": {
        "id": "n272SgHYSKNc"
      },
      "source": [
        "## Histograms"
      ]
    },
    {
      "cell_type": "code",
      "metadata": {
        "colab": {
          "base_uri": "https://localhost:8080/",
          "height": 412
        },
        "id": "aYfR4euxzjTa",
        "outputId": "89539961-ee19-4250-f878-c93ccff211ca"
      },
      "source": [
        "# import plotting tools\n",
        "import seaborn as sns\n",
        "import matplotlib.pyplot as plt\n",
        "sns.set()\n",
        "\n",
        "# sizing/adjusting histogram\n",
        "plt.figure(figsize=(11, 6))\n",
        "plt.hist(updated_housing['housing_median_age'], \n",
        "         color='darkcyan', alpha=1.0) # plotting\n",
        "\n",
        "# labeling\n",
        "plt.xlabel('Median House Age')\n",
        "plt.ylabel('Amount')\n",
        "\n",
        "# titling\n",
        "plt.title('Median House Age Within a Block', \n",
        "          size=16) # default 12\n",
        "# saving\n",
        "plt.savefig('Median House Age Within a Block', \n",
        "            dpi=200)\n",
        "\n",
        "plt.show()"
      ],
      "execution_count": null,
      "outputs": [
        {
          "output_type": "display_data",
          "data": {
            "image/png": "[encoded data removed]",
            "text/plain": [
              "<Figure size 792x432 with 1 Axes>"
            ]
          },
          "metadata": {
            "tags": []
          }
        }
      ]
    },
    {
      "cell_type": "markdown",
      "metadata": {
        "id": "6K4AOtOPLrKx"
      },
      "source": [
        "**Median House Age**\n",
        "\n",
        "The lower the number, the newer the building, so there's a noticable pattern, older houses from around 35 years are still up. Beyond that, looks like newer buidings are being built, and behind that, older buildings are being torn down (or maybe preserved)."
      ]
    },
    {
      "cell_type": "code",
      "metadata": {
        "colab": {
          "base_uri": "https://localhost:8080/",
          "height": 412
        },
        "id": "iNx3g_BA1KS5",
        "outputId": "8f9c371c-5562-4647-ae2b-3144c87ed550"
      },
      "source": [
        "import seaborn as sns\n",
        "import matplotlib.pyplot as plt\n",
        "sns.set()\n",
        "\n",
        "plt.figure(figsize=(11, 6))\n",
        "plt.hist(updated_housing['total_rooms'], color='coral', \n",
        "         alpha=1.0, log=True, bins=12) # plotting\n",
        "\n",
        "plt.xlabel('Total Rooms')\n",
        "plt.ylabel('Amount')\n",
        "\n",
        "plt.title('Total Rooms Within a Block', size=16) # default 12\n",
        "plt.savefig('Total Rooms Within a Block', dpi=200)\n",
        "\n",
        "plt.show()"
      ],
      "execution_count": null,
      "outputs": [
        {
          "output_type": "display_data",
          "data": {
            "image/png": "[encoded data removed]",
            "text/plain": [
              "<Figure size 792x432 with 1 Axes>"
            ]
          },
          "metadata": {
            "tags": []
          }
        }
      ]
    },
    {
      "cell_type": "markdown",
      "metadata": {
        "id": "qa0khT64dqcS"
      },
      "source": [
        "**Total Rooms**\n",
        "\n",
        "This histogram is skewed to the right, as it's pretty common for buildings to have small amounts of rooms. The numbers that increase towards the right are likely from large estates or even homes renovated into care homes."
      ]
    },
    {
      "cell_type": "code",
      "metadata": {
        "colab": {
          "base_uri": "https://localhost:8080/",
          "height": 412
        },
        "id": "gXysQy3W1wuk",
        "outputId": "c1a7798d-fe48-4dff-b61c-73b34a3b02bb"
      },
      "source": [
        "import seaborn as sns\n",
        "import matplotlib.pyplot as plt\n",
        "sns.set()\n",
        "\n",
        "plt.figure(figsize=(11, 6))\n",
        "plt.hist(updated_housing['median_income'], color='bisque', \n",
        "         alpha=1.0) # plotting\n",
        "\n",
        "plt.xlabel('median income')\n",
        "plt.ylabel('Amount')\n",
        "\n",
        "plt.title('Median Income of Persons Within a Block', size=16) # default 12\n",
        "plt.savefig('Median Income of Persons Within a Block', dpi=200)\n",
        "\n",
        "plt.show()"
      ],
      "execution_count": null,
      "outputs": [
        {
          "output_type": "display_data",
          "data": {
            "image/png": "[encoded data removed]",
            "text/plain": [
              "<Figure size 792x432 with 1 Axes>"
            ]
          },
          "metadata": {
            "tags": []
          }
        }
      ]
    },
    {
      "cell_type": "markdown",
      "metadata": {
        "id": "r0ySfbhseXRt"
      },
      "source": [
        "**Median Income**\n",
        "\n",
        "This shows that people living on a block with low income will be surrounded by more people. This is likely due to less square footage per house because it'd be cheaper. Going further to the right, the median income is higher, meaning less people. A smaller population is expected when homes have larger properties."
      ]
    },
    {
      "cell_type": "markdown",
      "metadata": {
        "id": "bSwZNDeDfKg2"
      },
      "source": [
        "## Scatterplots"
      ]
    },
    {
      "cell_type": "code",
      "metadata": {
        "colab": {
          "base_uri": "https://localhost:8080/",
          "height": 286
        },
        "id": "3MHRPR3-gd22",
        "outputId": "98c90902-ff54-484a-c559-1be44525c666"
      },
      "source": [
        "# finding correlation between columns\n",
        "updated_housing.corr()"
      ],
      "execution_count": null,
      "outputs": [
        {
          "output_type": "execute_result",
          "data": {
            "text/html": [
              "<div>\n",
              "<style scoped>\n",
              "    .dataframe tbody tr th:only-of-type {\n",
              "        vertical-align: middle;\n",
              "    }\n",
              "\n",
              "    .dataframe tbody tr th {\n",
              "        vertical-align: top;\n",
              "    }\n",
              "\n",
              "    .dataframe thead th {\n",
              "        text-align: right;\n",
              "    }\n",
              "</style>\n",
              "<table border=\"1\" class=\"dataframe\">\n",
              "  <thead>\n",
              "    <tr style=\"text-align: right;\">\n",
              "      <th></th>\n",
              "      <th>housing_median_age</th>\n",
              "      <th>total_rooms</th>\n",
              "      <th>total_bedrooms</th>\n",
              "      <th>population</th>\n",
              "      <th>households</th>\n",
              "      <th>median_income</th>\n",
              "      <th>median_house_value</th>\n",
              "    </tr>\n",
              "  </thead>\n",
              "  <tbody>\n",
              "    <tr>\n",
              "      <th>housing_median_age</th>\n",
              "      <td>1.000000</td>\n",
              "      <td>-0.357942</td>\n",
              "      <td>-0.327875</td>\n",
              "      <td>-0.297649</td>\n",
              "      <td>-0.307428</td>\n",
              "      <td>-0.095686</td>\n",
              "      <td>0.093437</td>\n",
              "    </tr>\n",
              "    <tr>\n",
              "      <th>total_rooms</th>\n",
              "      <td>-0.357942</td>\n",
              "      <td>1.000000</td>\n",
              "      <td>0.895052</td>\n",
              "      <td>0.845219</td>\n",
              "      <td>0.900195</td>\n",
              "      <td>0.290731</td>\n",
              "      <td>0.242871</td>\n",
              "    </tr>\n",
              "    <tr>\n",
              "      <th>total_bedrooms</th>\n",
              "      <td>-0.327875</td>\n",
              "      <td>0.895052</td>\n",
              "      <td>1.000000</td>\n",
              "      <td>0.892839</td>\n",
              "      <td>0.989739</td>\n",
              "      <td>0.039471</td>\n",
              "      <td>0.162565</td>\n",
              "    </tr>\n",
              "    <tr>\n",
              "      <th>population</th>\n",
              "      <td>-0.297649</td>\n",
              "      <td>0.845219</td>\n",
              "      <td>0.892839</td>\n",
              "      <td>1.000000</td>\n",
              "      <td>0.911971</td>\n",
              "      <td>0.033532</td>\n",
              "      <td>0.070794</td>\n",
              "    </tr>\n",
              "    <tr>\n",
              "      <th>households</th>\n",
              "      <td>-0.307428</td>\n",
              "      <td>0.900195</td>\n",
              "      <td>0.989739</td>\n",
              "      <td>0.911971</td>\n",
              "      <td>1.000000</td>\n",
              "      <td>0.064601</td>\n",
              "      <td>0.178576</td>\n",
              "    </tr>\n",
              "    <tr>\n",
              "      <th>median_income</th>\n",
              "      <td>-0.095686</td>\n",
              "      <td>0.290731</td>\n",
              "      <td>0.039471</td>\n",
              "      <td>0.033532</td>\n",
              "      <td>0.064601</td>\n",
              "      <td>1.000000</td>\n",
              "      <td>0.681595</td>\n",
              "    </tr>\n",
              "    <tr>\n",
              "      <th>median_house_value</th>\n",
              "      <td>0.093437</td>\n",
              "      <td>0.242871</td>\n",
              "      <td>0.162565</td>\n",
              "      <td>0.070794</td>\n",
              "      <td>0.178576</td>\n",
              "      <td>0.681595</td>\n",
              "      <td>1.000000</td>\n",
              "    </tr>\n",
              "  </tbody>\n",
              "</table>\n",
              "</div>"
            ],
            "text/plain": [
              "                    housing_median_age  ...  median_house_value\n",
              "housing_median_age            1.000000  ...            0.093437\n",
              "total_rooms                  -0.357942  ...            0.242871\n",
              "total_bedrooms               -0.327875  ...            0.162565\n",
              "population                   -0.297649  ...            0.070794\n",
              "households                   -0.307428  ...            0.178576\n",
              "median_income                -0.095686  ...            0.681595\n",
              "median_house_value            0.093437  ...            1.000000\n",
              "\n",
              "[7 rows x 7 columns]"
            ]
          },
          "metadata": {
            "tags": []
          },
          "execution_count": 88
        }
      ]
    },
    {
      "cell_type": "markdown",
      "metadata": {
        "id": "SPwvOObHOcsw"
      },
      "source": [
        "The ones with the highest correlation:\n",
        "\n",
        "--households with total bedrooms\n",
        "\n",
        "--total rooms with total bedrooms\n",
        "\n",
        "Median house value doesn't have a strong correlation with any of columns, although it does have a medium correlation with median income."
      ]
    },
    {
      "cell_type": "code",
      "metadata": {
        "colab": {
          "base_uri": "https://localhost:8080/",
          "height": 414
        },
        "id": "qRBnrHGqfMxo",
        "outputId": "5ffae56c-011c-4276-d1dd-56cd77c8a083"
      },
      "source": [
        "# shrinking dataset to see a clearer plot\n",
        "df = updated_housing[:2000]\n",
        "\n",
        "import matplotlib.pyplot as plt\n",
        "import seaborn as sns\n",
        "sns.set()\n",
        "\n",
        "# sizing plot\n",
        "plt.figure(figsize=(11, 6))\n",
        "\n",
        "# adjusting the axes\n",
        "plt.xlim(0,3000)\n",
        "plt.ylim(0,10000)\n",
        "\n",
        "# customizing scatter plot\n",
        "sns.scatterplot(x = df['total_bedrooms'],\n",
        "                y = df['total_rooms'], \n",
        "                size = df['households'], \n",
        "                sizes = (20, 400),\n",
        "                hue = df['median_house_value'])\n",
        "\n",
        "# naming plot\n",
        "plt.title('Correlation: Beds, Rooms, Households', \n",
        "          size = 18)\n",
        "# saving plot\n",
        "plt.savefig('Correlation: Beds, Rooms, Households', \n",
        "            dpi=200)\n",
        "\n",
        "plt.show()"
      ],
      "execution_count": null,
      "outputs": [
        {
          "output_type": "display_data",
          "data": {
            "image/png": "[encoded data removed]",
            "text/plain": [
              "<Figure size 792x432 with 1 Axes>"
            ]
          },
          "metadata": {
            "tags": []
          }
        }
      ]
    },
    {
      "cell_type": "markdown",
      "metadata": {
        "id": "hb-q0_5vLc8v"
      },
      "source": [
        "The correlation between the total bedrooms and rooms is at 0.895052. And including the households, it's a steady increase in size from top to bottom.\n",
        "\n",
        "Matched with the median house value, the colors don't go completely from bottom to top, the higher values are pushed to one side, showing the ~0.2 correlation stream. "
      ]
    },
    {
      "cell_type": "code",
      "metadata": {
        "colab": {
          "base_uri": "https://localhost:8080/",
          "height": 412
        },
        "id": "0aXDM8-YPulK",
        "outputId": "11de763b-42d3-42be-d63b-061c16372bc3"
      },
      "source": [
        "import matplotlib.pyplot as plt\n",
        "import seaborn as sns\n",
        "sns.set()\n",
        "\n",
        "plt.figure(figsize=(11, 6))\n",
        "\n",
        "plt.xlim(0,12)\n",
        "\n",
        "sns.scatterplot(x = df['median_income'],\n",
        "                y = df['median_house_value'],\n",
        "                color = 'mediumaquamarine')\n",
        "\n",
        "plt.title('Correlation: Income and House Value', \n",
        "          size = 15)\n",
        "plt.savefig('Correlation: Income and House Value', \n",
        "            dpi=200)\n",
        "\n",
        "plt.show()"
      ],
      "execution_count": null,
      "outputs": [
        {
          "output_type": "display_data",
          "data": {
            "image/png": "[encoded data removed]",
            "text/plain": [
              "<Figure size 792x432 with 1 Axes>"
            ]
          },
          "metadata": {
            "tags": []
          }
        }
      ]
    },
    {
      "cell_type": "markdown",
      "metadata": {
        "id": "K4pCPYMTPkac"
      },
      "source": [
        "The closest correlation to the predicting variable, median house value, while still being low, is median income, with 0.688075."
      ]
    },
    {
      "cell_type": "markdown",
      "metadata": {
        "id": "atY1Q7GfLPy6"
      },
      "source": [
        "## Linear Regressions"
      ]
    },
    {
      "cell_type": "code",
      "metadata": {
        "id": "BATXsBnoMaeA"
      },
      "source": [
        "X = updated_housing.iloc[:, :-1] # all but last column\n",
        "y = updated_housing.iloc[:, -1] # the last column\n",
        "\n",
        "# splitting data\n",
        "from sklearn.model_selection import train_test_split\n",
        "X_train, X_test, y_train, y_test = train_test_split(X, y)"
      ],
      "execution_count": null,
      "outputs": []
    },
    {
      "cell_type": "code",
      "metadata": {
        "id": "OAWkR9JlncL7",
        "colab": {
          "base_uri": "https://localhost:8080/"
        },
        "outputId": "0c127c8d-3f55-48c2-bb05-634d361828e3"
      },
      "source": [
        "# importing LinearRegression algorithm\n",
        "from sklearn.linear_model import LinearRegression\n",
        "model = LinearRegression()\n",
        "model.fit(X_train, y_train)\n",
        "model.score(X_test, y_test)"
      ],
      "execution_count": null,
      "outputs": [
        {
          "output_type": "execute_result",
          "data": {
            "text/plain": [
              "0.5713404057931143"
            ]
          },
          "metadata": {
            "tags": []
          },
          "execution_count": 92
        }
      ]
    },
    {
      "cell_type": "markdown",
      "metadata": {
        "id": "TsckjOl-CViy"
      },
      "source": [
        "The standard LinearRegression algorithm gave back a score of 0.55. This would result in predictions being accurate only around half the time, so I will be using other algorithms to see if they come up with higher percentages.\n",
        "\n"
      ]
    },
    {
      "cell_type": "code",
      "metadata": {
        "id": "dyFRWI1nIzdB"
      },
      "source": [
        "# importing other models\n",
        "from sklearn.tree import DecisionTreeRegressor\n",
        "from sklearn.ensemble import RandomForestRegressor\n",
        "from xgboost import XGBRegressor, XGBRFRegressor\n",
        "from sklearn.neighbors import KNeighborsRegressor"
      ],
      "execution_count": null,
      "outputs": []
    },
    {
      "cell_type": "code",
      "metadata": {
        "id": "XsJ-LTp0SoJa"
      },
      "source": [
        "# function to fit and score any regressor\n",
        "def regression(model):\n",
        "  model.fit(X_train, y_train)\n",
        "  print(model.score(X_test, y_test))\n",
        "  print(model.predict(X[:5]))"
      ],
      "execution_count": null,
      "outputs": []
    },
    {
      "cell_type": "code",
      "metadata": {
        "colab": {
          "base_uri": "https://localhost:8080/"
        },
        "id": "6Wqw8Wuamajj",
        "outputId": "6b605c81-b6ea-498e-f7c2-6c02e9a45f42"
      },
      "source": [
        "# showing the first 5 entries to match with the predictions\n",
        "y.head()"
      ],
      "execution_count": null,
      "outputs": [
        {
          "output_type": "execute_result",
          "data": {
            "text/plain": [
              "0    452600.0\n",
              "1    358500.0\n",
              "2    352100.0\n",
              "3    341300.0\n",
              "4    342200.0\n",
              "Name: median_house_value, dtype: float64"
            ]
          },
          "metadata": {
            "tags": []
          },
          "execution_count": 95
        }
      ]
    },
    {
      "cell_type": "code",
      "metadata": {
        "colab": {
          "base_uri": "https://localhost:8080/"
        },
        "id": "T-z2UmtsTFPt",
        "outputId": "62659e60-6e5c-4f76-ed56-f9d769225c47"
      },
      "source": [
        "regression(DecisionTreeRegressor())"
      ],
      "execution_count": null,
      "outputs": [
        {
          "output_type": "stream",
          "text": [
            "0.3768668474913561\n",
            "[452600. 358500. 352100. 267900. 342200.]\n"
          ],
          "name": "stdout"
        }
      ]
    },
    {
      "cell_type": "code",
      "metadata": {
        "colab": {
          "base_uri": "https://localhost:8080/"
        },
        "id": "rZmdZTyzQ8l7",
        "outputId": "a3932a2c-4336-4bcf-eef5-74ecc94962d0"
      },
      "source": [
        "regression(RandomForestRegressor())"
      ],
      "execution_count": null,
      "outputs": [
        {
          "output_type": "stream",
          "text": [
            "0.6717366848257716\n",
            "[458109.22 389245.06 390200.28 405595.36 308834.  ]\n"
          ],
          "name": "stdout"
        }
      ]
    },
    {
      "cell_type": "code",
      "metadata": {
        "colab": {
          "base_uri": "https://localhost:8080/"
        },
        "id": "G0qesW0bQ2hc",
        "outputId": "fbd7db03-0999-4ec8-9fd1-f2d3668d0583"
      },
      "source": [
        "regression(XGBRegressor())"
      ],
      "execution_count": null,
      "outputs": [
        {
          "output_type": "stream",
          "text": [
            "[18:05:42] WARNING: /workspace/src/objective/regression_obj.cu:152: reg:linear is now deprecated in favor of reg:squarederror.\n",
            "0.6380283760568497\n",
            "[445871.88 464960.28 397424.25 352664.53 258163.78]\n"
          ],
          "name": "stdout"
        }
      ]
    },
    {
      "cell_type": "code",
      "metadata": {
        "colab": {
          "base_uri": "https://localhost:8080/"
        },
        "id": "c67nK3gLfXqQ",
        "outputId": "c26df5e5-a8ae-4216-c849-51a8b02abaa6"
      },
      "source": [
        "regression(XGBRFRegressor())"
      ],
      "execution_count": null,
      "outputs": [
        {
          "output_type": "stream",
          "text": [
            "[18:05:43] WARNING: /workspace/src/objective/regression_obj.cu:152: reg:linear is now deprecated in favor of reg:squarederror.\n",
            "0.4770719493838403\n",
            "[405802.44 423183.8  365390.22 335520.84 197371.81]\n"
          ],
          "name": "stdout"
        }
      ]
    },
    {
      "cell_type": "code",
      "metadata": {
        "colab": {
          "base_uri": "https://localhost:8080/"
        },
        "id": "clcppVXuJVHa",
        "outputId": "3311d866-cde3-4236-ae8f-0cc9f131898f"
      },
      "source": [
        "regression(KNeighborsRegressor(n_neighbors=5))"
      ],
      "execution_count": null,
      "outputs": [
        {
          "output_type": "stream",
          "text": [
            "0.23470392910733975\n",
            "[335700.  396020.4 354100.4 161260.  367140.2]\n"
          ],
          "name": "stdout"
        }
      ]
    },
    {
      "cell_type": "markdown",
      "metadata": {
        "id": "usYc81rVE6U8"
      },
      "source": [
        "The DecisionTreeRegressor dipped quite a bit, but both XGBRegressor and RandomForestRegressor went up around 10%. RandomForestRegressor is the highest at around 68%."
      ]
    },
    {
      "cell_type": "markdown",
      "metadata": {
        "id": "9qslv5qlGZj2"
      },
      "source": [
        "## Cross Validation"
      ]
    },
    {
      "cell_type": "markdown",
      "metadata": {
        "id": "3642DhcFGcYE"
      },
      "source": [
        "I'll be testing cross validation on the ML algorithms that gave back the highest scores. The purpose being to find out which of them will give back the largest average among multiple data tests."
      ]
    },
    {
      "cell_type": "code",
      "metadata": {
        "id": "JoOGUdAHIacu"
      },
      "source": [
        "# importing cross_val_score\n",
        "from sklearn.model_selection import cross_val_score\n",
        "\n",
        "# splitting the data again, but without train/test sets\n",
        "X = updated_housing.iloc[:, :-1]\n",
        "y = updated_housing.iloc[:, -1]"
      ],
      "execution_count": null,
      "outputs": []
    },
    {
      "cell_type": "code",
      "metadata": {
        "colab": {
          "base_uri": "https://localhost:8080/"
        },
        "id": "s5VtpxTYeIFq",
        "outputId": "ec4bfc81-1fc7-429f-e623-78ac11fb308b"
      },
      "source": [
        "# std is necessary to match with rmse\n",
        "y.describe()"
      ],
      "execution_count": null,
      "outputs": [
        {
          "output_type": "execute_result",
          "data": {
            "text/plain": [
              "count      6207.000000\n",
              "mean     190992.498631\n",
              "std      114902.969205\n",
              "min       14999.000000\n",
              "25%      100000.000000\n",
              "50%      164600.000000\n",
              "75%      244350.000000\n",
              "max      500001.000000\n",
              "Name: median_house_value, dtype: float64"
            ]
          },
          "metadata": {
            "tags": []
          },
          "execution_count": 102
        }
      ]
    },
    {
      "cell_type": "markdown",
      "metadata": {
        "id": "RxQLPNHzfglJ"
      },
      "source": [
        "The standard deviation is 114,902 (min of 164,600). Through cross validation, I'm looking for the smallest rmse value, that's also smaller than the std."
      ]
    },
    {
      "cell_type": "code",
      "metadata": {
        "id": "ec_RW6VmGbs7"
      },
      "source": [
        "# function to cross and score any regressor\n",
        "def cross(model):\n",
        "  nms_scores = cross_val_score(model, X, y, cv=10, \n",
        "                              scoring='neg_mean_squared_error')\n",
        "  rmse = (-nms_scores)**0.5\n",
        "  print(rmse)\n",
        "  print(rmse.mean())"
      ],
      "execution_count": null,
      "outputs": []
    },
    {
      "cell_type": "code",
      "metadata": {
        "colab": {
          "base_uri": "https://localhost:8080/"
        },
        "id": "YpvTtVhQHgko",
        "outputId": "d5a5dccc-faeb-4793-ab73-80278b7ec194"
      },
      "source": [
        "cross(XGBRegressor(objective='reg:squarederror'))"
      ],
      "execution_count": null,
      "outputs": [
        {
          "output_type": "stream",
          "text": [
            "[ 62314.27670669  46557.26891862  58690.74088806  70136.30184253\n",
            "  72968.33569708  51426.53907373  86561.12939584  84887.7861237\n",
            " 104821.46833624  59529.02657211]\n",
            "69789.28735545915\n"
          ],
          "name": "stdout"
        }
      ]
    },
    {
      "cell_type": "code",
      "metadata": {
        "colab": {
          "base_uri": "https://localhost:8080/"
        },
        "id": "aAVrxHhLJQTQ",
        "outputId": "62130f96-fba7-469f-ace7-ecb8c5c859d4"
      },
      "source": [
        "cross(RandomForestRegressor())"
      ],
      "execution_count": null,
      "outputs": [
        {
          "output_type": "stream",
          "text": [
            "[71591.93649899 46405.03941321 61079.22320145 68575.43331994\n",
            " 67263.74292539 51322.26419626 80270.31932842 82316.70813453\n",
            " 96933.77742727 60130.76865036]\n",
            "68588.92130958184\n"
          ],
          "name": "stdout"
        }
      ]
    },
    {
      "cell_type": "markdown",
      "metadata": {
        "id": "BMQp3pvXiaM1"
      },
      "source": [
        "## Hypertuning "
      ]
    },
    {
      "cell_type": "code",
      "metadata": {
        "id": "9yHqWoJblBQk"
      },
      "source": [
        "# import KFold\n",
        "from sklearn.model_selection import KFold\n",
        "kfold = KFold(n_splits=10, shuffle=True) # number of folds//shuffles data before splitting"
      ],
      "execution_count": null,
      "outputs": []
    },
    {
      "cell_type": "code",
      "metadata": {
        "id": "KOiarbGwmcsZ"
      },
      "source": [
        "def cross(model):\n",
        "  nms_scores = cross_val_score(model, X, y, \n",
        "                              scoring='neg_mean_squared_error',\n",
        "                              cv=kfold)\n",
        "  rmse = (-nms_scores)**0.5\n",
        "  print(rmse)\n",
        "  print(rmse.mean())"
      ],
      "execution_count": null,
      "outputs": []
    },
    {
      "cell_type": "code",
      "metadata": {
        "colab": {
          "base_uri": "https://localhost:8080/"
        },
        "id": "bWwT7eQsl2Z1",
        "outputId": "873771e3-cce3-4850-ccf0-e98c0f7fdb49"
      },
      "source": [
        "# adding max_depth\n",
        "cross(XGBRegressor(objective='reg:squarederror', \n",
        "                   max_depth=5))"
      ],
      "execution_count": null,
      "outputs": [
        {
          "output_type": "stream",
          "text": [
            "[61667.81233258 67984.29553132 64059.967566   65418.10774216\n",
            " 59930.41316214 64577.33191032 63238.5242909  65480.61472508\n",
            " 67421.14701816 64019.54672692]\n",
            "64379.77610055859\n"
          ],
          "name": "stdout"
        }
      ]
    },
    {
      "cell_type": "code",
      "metadata": {
        "colab": {
          "base_uri": "https://localhost:8080/"
        },
        "id": "M_wPzlUfkKJ-",
        "outputId": "f682619b-31b7-4336-ddac-c7b1971d9847"
      },
      "source": [
        "cross(RandomForestRegressor(max_depth=8))"
      ],
      "execution_count": null,
      "outputs": [
        {
          "output_type": "stream",
          "text": [
            "[64137.77787894 67082.45231659 73320.44923117 65682.6896668\n",
            " 70413.07000923 66976.25998395 69004.49625191 63806.73944912\n",
            " 73985.71702628 68963.77565688]\n",
            "68337.34274708669\n"
          ],
          "name": "stdout"
        }
      ]
    },
    {
      "cell_type": "markdown",
      "metadata": {
        "id": "jNI4Z7VNaDci"
      },
      "source": [
        "with the kfold and single max_depth value, there was a large drop, with XGBRegressor going the lowest at 64407. It looks like 63k would be the number to crack but more parameters have to be added to do so."
      ]
    },
    {
      "cell_type": "markdown",
      "metadata": {
        "id": "SRznAnC-mPDE"
      },
      "source": [
        "## GridSearchCV"
      ]
    },
    {
      "cell_type": "code",
      "metadata": {
        "id": "2kTqCVb-on3F"
      },
      "source": [
        "def grid_func(params, model):\n",
        "  # import GridSearchCV\n",
        "  from sklearn.model_selection import GridSearchCV\n",
        "\n",
        "  # initialize model\n",
        "  grid_reg = GridSearchCV(model, params,\n",
        "                          scoring='neg_mean_squared_error',\n",
        "                          cv=kfold)\n",
        "\n",
        "  # fit the model\n",
        "  grid_reg.fit(X, y)\n",
        "\n",
        "  # show best parameters\n",
        "  best_params = grid_reg.best_params_\n",
        "\n",
        "  #show best score\n",
        "  scores = grid_reg.best_score_\n",
        "  rmse = (-scores)**0.5\n",
        "  best_score = rmse\n",
        "\n",
        "  print(best_params)\n",
        "  print(best_score)"
      ],
      "execution_count": null,
      "outputs": []
    },
    {
      "cell_type": "code",
      "metadata": {
        "colab": {
          "base_uri": "https://localhost:8080/"
        },
        "id": "fopj_LjGqoRy",
        "outputId": "263472c9-bb96-4f28-cb8c-5ecc173177f2"
      },
      "source": [
        "params = {'max_depth':[2, 3, 5, 6],\n",
        "          'subsample': [0.6, 0.8, 1.0],\n",
        "          'colsample_bytree': [0.6, 0.8, 1.0]}\n",
        "\n",
        "grid_func(params, XGBRegressor(objective='reg:squarederror'))"
      ],
      "execution_count": null,
      "outputs": [
        {
          "output_type": "stream",
          "text": [
            "{'colsample_bytree': 1.0, 'max_depth': 5, 'subsample': 0.6}\n",
            "64064.766032050895\n"
          ],
          "name": "stdout"
        }
      ]
    },
    {
      "cell_type": "code",
      "metadata": {
        "colab": {
          "base_uri": "https://localhost:8080/"
        },
        "id": "vv4ZzrzEq-Ct",
        "outputId": "5859f34b-c7a5-4b2b-c80d-5d4281e940d9"
      },
      "source": [
        "params = {'max_depth':[2, 4, 6, 8],\n",
        "          'n_estimators':[300, 400, 600, 800]}\n",
        "\n",
        "grid_func(params, RandomForestRegressor())"
      ],
      "execution_count": null,
      "outputs": [
        {
          "output_type": "stream",
          "text": [
            "{'max_depth': 8, 'n_estimators': 300}\n",
            "68436.0187272207\n"
          ],
          "name": "stdout"
        }
      ]
    }
  ]
}